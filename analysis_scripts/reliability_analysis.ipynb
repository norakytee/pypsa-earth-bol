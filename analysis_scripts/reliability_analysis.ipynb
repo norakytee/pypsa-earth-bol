{
 "cells": [
  {
   "cell_type": "code",
   "execution_count": 1,
   "metadata": {},
   "outputs": [
    {
     "name": "stderr",
     "output_type": "stream",
     "text": [
      "c:\\Users\\noraky\\anaconda3\\envs\\pypsa-earth-nora\\lib\\site-packages\\pypsa\\networkclustering.py:16: UserWarning: The namespace `pypsa.networkclustering` is deprecated and will be removed in PyPSA v0.24. Please use `pypsa.clustering.spatial instead`. \n",
      "  warnings.warn(\n"
     ]
    }
   ],
   "source": [
    "import pypsa\n",
    "import pandas as pd\n",
    "import numpy as np\n",
    "import matplotlib.pyplot as plt\n",
    "import warnings\n",
    "import logging\n",
    "import datetime\n",
    "from collections import defaultdict, Counter\n",
    "warnings.filterwarnings('ignore')\n",
    "logging.getLogger().setLevel(logging.WARNING)"
   ]
  },
  {
   "cell_type": "code",
   "execution_count": 2,
   "metadata": {},
   "outputs": [],
   "source": [
    "n_simulations = 100\n",
    "#path = 'C:/Users/noraky/Documents/Masteroppgave/pypsa-earth/monte_carlo_networks/network_'\n",
    "path = 'C:/Users/noraky/Documents/Masteroppgave/pypsa-earth/csa_results/'\n",
    "#path = 'C:/Users/noraky/Documents/Masteroppgave/pypsa-earth/csa_results/'\n",
    "#path = 'C:/Users/noraky/Documents/Masteroppgave/pypsa-earth/solstorm_3_mc_networks/network_'\n",
    "#path = '/mnt/beegfs/users/noraky/pypsa-earth/monte_carlo_networks/network_'\n",
    "#networks = [pypsa.Network(path + str(i) + '.nc') for i in range(1,n_simulations+1)]\n",
    "teal3 = '#527D77'\n",
    "price_LL = 22000"
   ]
  },
  {
   "cell_type": "code",
   "execution_count": 3,
   "metadata": {},
   "outputs": [],
   "source": [
    "# Helper functions\n",
    "\n",
    "def get_snapshot_generation(network, first_date, second_date, carrier):\n",
    "    if carrier == 'hydro':\n",
    "        generation = network.storage_units_t.p_dispatch[first_date:second_date].groupby(network.storage_units.carrier, axis=1).sum()[carrier]\n",
    "    elif carrier == 'battery' or carrier == 'H2':\n",
    "        generation = network.stores_t.p.loc[first_date:second_date].groupby(network.stores.carrier, axis=1).sum()[carrier]\n",
    "    else:\n",
    "        generation = network.generators_t.p.loc[first_date:second_date].groupby(network.generators.carrier, axis=1).sum()[carrier]\n",
    "    return generation\n",
    "\n",
    "def get_snapshot_demand(network, first_date, second_date):\n",
    "    demand = network.loads_t.p_set.loc[first_date:second_date].sum(axis=1)\n",
    "    return demand\n",
    "\n",
    "def calculate_lost_load(network, first_date=\"2013-01-01\", second_date=\"2013-12-31\"):\n",
    "    CCGT = get_snapshot_generation(network, first_date, second_date, 'CCGT')\n",
    "    OCGT = get_snapshot_generation(network, first_date, second_date, 'OCGT')\n",
    "    Oil = get_snapshot_generation(network, first_date, second_date, 'oil')\n",
    "    Geothermal = get_snapshot_generation(network, first_date, second_date, 'geothermal')\n",
    "    Hydro = get_snapshot_generation(network, first_date, second_date, 'ror') + get_snapshot_generation(network, first_date, second_date, 'hydro')\n",
    "    Wind = get_snapshot_generation(network, first_date, second_date, 'onwind')\n",
    "    Solar = get_snapshot_generation(network, first_date, second_date, 'solar')\n",
    "    Biomass = get_snapshot_generation(network, first_date, second_date, 'biomass')\n",
    "    Battery = get_snapshot_generation(network, first_date, second_date, 'battery')\n",
    "    demand = get_snapshot_demand(network, first_date, second_date)\n",
    "\n",
    "    nbattery = [(i*-1) if i < 0 else 0 for i in Battery]\n",
    "    pbattery = [i if i > 0 else 0 for i in Battery]\n",
    "\n",
    "    nbattery_9 = [float(n) / 0.9 for n in nbattery]\n",
    "    pbattery_9 = [float(n) * 0.9 for n in pbattery]\n",
    "\n",
    "    LL = (demand.values + nbattery_9) - (CCGT + OCGT + Oil + Wind + Solar + Biomass + Hydro + pbattery_9 + Geothermal)\n",
    "    return LL\n",
    "\n",
    "def load_matrices(iteration):\n",
    "    df_lines = pd.read_csv(f'C:/Users/noraky/Documents/Masteroppgave/pypsa-earth/matrices/lines_matrix_{iteration}.csv')\n",
    "    #df_lines = pd.read_csv(f'/mnt/beegfs/users/noraky/pypsa-earth/monte_carlo_networks/lines_matrix_{iteration}.csv')\n",
    "    df_generators = pd.read_csv(f'C:/Users/noraky/Documents/Masteroppgave/pypsa-earth/matrices/generators_matrix_{iteration}.csv')\n",
    "    #df_generators = pd.read_csv(f'/mnt/beegfs/users/noraky/pypsa-earth/monte_carlo_networks/generators_matrix_{iteration}.csv')\n",
    "    df_storage_units = pd.read_csv(f'C:/Users/noraky/Documents/Masteroppgave/pypsa-earth/matrices/storage_units_matrix_{iteration}.csv')\n",
    "    #df_storage_units = pd.read_csv(f'/mnt/beegfs/users/noraky/pypsa-earth/monte_carlo_networks/storage_units_matrix_{iteration}.csv')\n",
    "    \n",
    "    # Assuming the datetime column is named 'datetime' and is the first column\n",
    "    datetime_column = df_generators['datetime']\n",
    "\n",
    "    # Drop the datetime column for concatenation\n",
    "    df_generators = df_generators.drop(columns=['datetime'])\n",
    "    df_lines = df_lines.drop(columns=['datetime'])\n",
    "    df_storage_units = df_storage_units.drop(columns=['datetime'])\n",
    "    \n",
    "    # Concatenate the dataframes horizontally\n",
    "    states_df = pd.concat([df_lines, df_generators, df_storage_units], axis=1)\n",
    "    \n",
    "    # Reinsert the datetime column at the beginning\n",
    "    states_df.insert(0, 'datetime', datetime_column)\n",
    "    \n",
    "    return states_df\n",
    "\n",
    "def get_top_lost_load_hours(all_LL_values, top_n_hours=100):\n",
    "    all_LL_df = pd.DataFrame(all_LL_values, columns=['Lost_Load', 'Simulation', 'Hour', 'Datetime'])\n",
    "    top_hours_df = all_LL_df.nlargest(top_n_hours, 'Lost_Load').reset_index(drop=True)\n",
    "    return top_hours_df\n",
    "\n",
    "def analyze_top_hours(top_hours_df):\n",
    "    results = []\n",
    "    for idx, row in top_hours_df.iterrows():\n",
    "        iteration = int(row['Simulation'])\n",
    "        hour = int(row['Hour'])\n",
    "        datetime_value = row['Datetime']\n",
    "        lost_load = row['Lost_Load']\n",
    "        rank = idx + 1  # One-based ranking\n",
    "\n",
    "        # Load the state matrices for the specific iteration\n",
    "        states_df = load_matrices(iteration)\n",
    "        states_at_hour = states_df.iloc[hour, 1:]  # Skip datetime column\n",
    "        failed_components = states_at_hour[states_at_hour == 0].index.tolist()\n",
    "        results.append([rank, iteration, datetime_value, lost_load, failed_components])\n",
    "\n",
    "    return results\n",
    "\n",
    "def analyze_lost_loads(all_LL_values, state_matrices, n_simulations):\n",
    "    component_caused_ll = defaultdict(list)\n",
    "    multiple_components_caused_ll = defaultdict(list)\n",
    "    yearly_component_lost_load = defaultdict(list)\n",
    "    yearly_combination_lost_load = defaultdict(list)\n",
    "\n",
    "    for iteration in range(101, n_simulations + 101):\n",
    "        yearly_lost_load = defaultdict(float)\n",
    "        yearly_combination_load = defaultdict(float)\n",
    "        for ll, iter_num, hour, datetime_value in all_LL_values:\n",
    "            if iter_num != iteration:\n",
    "                continue\n",
    "            if ll > 0:\n",
    "                states_df = state_matrices[iteration]\n",
    "                states_at_hour = states_df.iloc[hour, 1:]  # Skip datetime column\n",
    "                failed_components = states_at_hour[states_at_hour == 0].index.tolist()\n",
    "\n",
    "                if len(failed_components) == 1:\n",
    "                    component = failed_components[0]\n",
    "                    component_caused_ll[component].append(ll)\n",
    "                    yearly_lost_load[component] += ll\n",
    "                else:\n",
    "                    multiple_components_caused_ll[tuple(failed_components)].append(ll)\n",
    "                    yearly_combination_load[tuple(failed_components)] += ll\n",
    "\n",
    "        for component, lost_load in yearly_lost_load.items():\n",
    "            yearly_component_lost_load[component].append(lost_load)\n",
    "\n",
    "        for combination, lost_load in yearly_combination_load.items():\n",
    "            yearly_combination_lost_load[combination].append(lost_load)\n",
    "\n",
    "        tot_component_caused_ll = {component: np.sum(lost_loads) for component, lost_loads in yearly_component_lost_load.items()}\n",
    "        tot_multiple_components_caused_ll = {components: np.sum(lost_loads) for components, lost_loads in yearly_combination_lost_load.items()}\n",
    "\n",
    "    return component_caused_ll, multiple_components_caused_ll, tot_component_caused_ll, tot_multiple_components_caused_ll\n",
    "\n",
    "def calculate_LL_occurence(LL):\n",
    "    time_LL = 0\n",
    "    for i in LL:\n",
    "        if i > 1:\n",
    "            time_LL += 1\n",
    "    return time_LL\n",
    "\n",
    "def get_indices():\n",
    "    n = pypsa.Network('../network_bnze_2040/BNZE_2040.nc')\n",
    "    #n = pypsa.Network('/mnt/beegfs/users/noraky/pypsa-earth/network_bnze_2040/BNZE_2040.nc')\n",
    "    line_indices = list(n.lines.index)\n",
    "    generators = n.generators[~n.generators.carrier.str.contains('load')].carrier.unique()\n",
    "    generator_indices = []\n",
    "    for carrier in generators:\n",
    "        generator_indices += list(n.generators.query(f\"carrier == '{carrier}'\").index)\n",
    "    storage_unit_indices = list(n.storage_units.index)\n",
    "    all_indices = line_indices + generator_indices + storage_unit_indices\n",
    "    return all_indices\n",
    "\n",
    "def total_ll_node(network,loads):\n",
    "    LL = network.generators_t.p[loads].sum()\n",
    "    return LL / 1e3 # MWh\n",
    "\n",
    "def time_ll_node(network, loads):\n",
    "    LL = network.generators_t.p[loads] / 1e3  # Convert to MWh\n",
    "    time_LL = pd.DataFrame(0, index=loads, columns=['Times Load Loss'])\n",
    "    for load in loads:\n",
    "        time_LL.loc[load, 'Times Load Loss'] = calculate_LL_occurence(LL[load])\n",
    "    return time_LL\n",
    "    \n",
    "    \n"
   ]
  },
  {
   "cell_type": "code",
   "execution_count": 4,
   "metadata": {},
   "outputs": [],
   "source": [
    "# total_LL = 0\n",
    "# time_LL = 0\n",
    "# LL_values = []\n",
    "# LL_ranges = {}\n",
    "# n_Hr = 8760\n",
    "# all_LL_values = []\n",
    "# first_date = datetime.datetime(2013, 1, 1)\n",
    "# loads_indices = pypsa.Network(path + '101.nc').generators.query('carrier == \"load\"').index\n",
    "# total_nodal_LL = pd.DataFrame(0, index=loads_indices, columns=['Total Load Loss'])\n",
    "# times_nodal_LL = pd.DataFrame(0, index=loads_indices, columns=['Times Load Loss'])\n",
    "# for iteration in range(101,n_simulations+101):\n",
    "#     network = pypsa.Network(path + str(iteration) + '.nc')\n",
    "#     LL = calculate_lost_load(network)\n",
    "\n",
    "#     for hour in range(n_Hr):\n",
    "#         datetime_value = first_date + datetime.timedelta(hours=hour)\n",
    "#         all_LL_values.append([max(0,LL[hour])/1e3, iteration, hour, datetime_value])\n",
    "\n",
    "#     time_LL += calculate_LL_occurence(LL)\n",
    "\n",
    "#     current_LL = 0\n",
    "#     for i in LL:\n",
    "#         current_LL += max(0, i)\n",
    "#     print('LL ' + str(iteration) + ': ', current_LL/1e3)\n",
    "#     LL_values.append(current_LL/1e3)\n",
    "\n",
    "#     #LL per node\n",
    "#     nodal_LL = total_ll_node(network,loads_indices)\n",
    "#     total_nodal_LL['Total Load Loss'] += nodal_LL\n",
    "#     nodal_times_LL = time_ll_node(network, loads_indices)\n",
    "#     times_nodal_LL['Times Load Loss'] += nodal_times_LL['Times Load Loss']"
   ]
  },
  {
   "cell_type": "code",
   "execution_count": 5,
   "metadata": {},
   "outputs": [],
   "source": [
    "# state_matrices = {}\n",
    "\n",
    "# for iteration in range(101, n_simulations + 101):\n",
    "#     state_matrices[iteration] = load_matrices(iteration)\n",
    "\n",
    "# component_caused_ll, multiple_components_caused_ll, yearly_component_lost_load, yearly_combination_lost_load = analyze_lost_loads(all_LL_values, state_matrices, n_simulations)\n",
    "# avg_component_caused_ll = {component: np.mean(lost_loads) for component, lost_loads in yearly_component_lost_load.items()}\n",
    "# avg_multiple_components_caused_ll = {components: np.mean(lost_loads) for components, lost_loads in yearly_combination_lost_load.items()}\n",
    "# avg_component_caused_ll_df = pd.DataFrame(list(avg_component_caused_ll.items()), columns=['Component', 'Average Lost Load'])\n",
    "# avg_multiple_components_caused_ll_df = pd.DataFrame([(components, avg_loss) for components, avg_loss in avg_multiple_components_caused_ll.items()], columns=['Components', 'Average Lost Load'])\n",
    "\n",
    "# # Save the results to CSV files\n",
    "# component_caused_ll_df = pd.DataFrame(list(component_caused_ll.items()), columns=['Component', 'Lost Load'])\n",
    "# component_caused_ll_df.to_csv('component_caused_ll.csv', index=False)\n",
    "# avg_component_caused_ll_df.to_csv('avg_component_caused_ll.csv', index=False)\n",
    "# avg_multiple_components_caused_ll_df.to_csv('avg_multiple_components_caused_ll.csv', index=False)\n",
    "# total_nodal_LL.to_csv('total_nodal_LL.csv')\n",
    "\n",
    "# print(\"Results saved to 'avg_component_caused_ll.csv' and 'avg_multiple_components_caused_ll.csv'\")"
   ]
  },
  {
   "cell_type": "code",
   "execution_count": 6,
   "metadata": {},
   "outputs": [],
   "source": [
    "# Analyze critical components\n",
    "# top_hours = get_top_lost_load_hours(all_LL_values, top_n_hours=100)\n",
    "# all_indices = get_indices()\n",
    "# mapping = {i: name for i, name in enumerate(all_indices)}\n",
    "# failed_components = analyze_top_hours(top_hours)"
   ]
  },
  {
   "cell_type": "code",
   "execution_count": 7,
   "metadata": {},
   "outputs": [],
   "source": [
    "# results_df = pd.DataFrame(failed_components, columns=['Rank', 'Simulation', 'Datetime', 'Lost Load', 'Failed Components'])\n",
    "# results_df.to_csv('../failed_components_analysis.csv', index=False)"
   ]
  },
  {
   "cell_type": "code",
   "execution_count": 8,
   "metadata": {},
   "outputs": [
    {
     "name": "stdout",
     "output_type": "stream",
     "text": [
      "EENS:  1516.8886302240537\n",
      "LOLP:  0    2.517045\n",
      "Name: Time LL, dtype: float64\n",
      "VOLL:  33.37154986492918\n"
     ]
    }
   ],
   "source": [
    "LL_values = pd.read_csv(path + 'LL_values.csv')['LL Values']\n",
    "LL_df = pd.DataFrame(LL_values, columns=[\"LL Values\"])\n",
    "\n",
    "time_LL = pd.read_csv(path + 'time_LL.csv')['Time LL']\n",
    "\n",
    "LL_ranges = {}\n",
    "for ll_value in LL_values:\n",
    "    # Define range by floor division, multiplying by 10 for range start and end\n",
    "    lower_bound = int(ll_value // 10 * 10)\n",
    "    upper_bound = lower_bound + 9  # Define upper bound consistently\n",
    "\n",
    "    # Create a consistently formatted range key\n",
    "    range_key = f\"{lower_bound} - {upper_bound}\"\n",
    "\n",
    "    # Increment the count for this range in the dictionary\n",
    "    if range_key in LL_ranges:\n",
    "        LL_ranges[range_key] += 1\n",
    "    else:\n",
    "        LL_ranges[range_key] = 1\n",
    "    \n",
    "    # lower_bound = int(ll_value)  # Whole number floor\n",
    "    # upper_bound = lower_bound + 10\n",
    "    # range_key = f\"{lower_bound} - {upper_bound - 1}\"\n",
    "    # if range_key in LL_ranges:\n",
    "    #     LL_ranges[range_key] += 10\n",
    "    # else:\n",
    "    #     LL_ranges[range_key] = 10\n",
    "min_value = int(min(LL_values))\n",
    "max_value = int(max(LL_values))\n",
    "\n",
    "\n",
    "all_ranges = []\n",
    "for lower_bound in range(min_value // 10 * 10, (max_value // 10 + 1) * 10, 10):\n",
    "    upper_bound = lower_bound + 9\n",
    "    range_key = f\"{lower_bound} - {upper_bound}\"\n",
    "    all_ranges.append(range_key)\n",
    "    if range_key not in LL_ranges:\n",
    "        LL_ranges[range_key] = 0\n",
    "\n",
    "total_LL = sum(LL_values)\n",
    "\n",
    "EENS = total_LL/n_simulations  # GWh\n",
    "LOLP = time_LL / (8760 * n_simulations)\n",
    "VOLL = (total_LL * price_LL) / (n_simulations*1e6)  # Convert to billion euros\n",
    "\n",
    "print('EENS: ', EENS)\n",
    "print('LOLP: ', LOLP)\n",
    "print('VOLL: ', VOLL)"
   ]
  },
  {
   "cell_type": "code",
   "execution_count": 9,
   "metadata": {},
   "outputs": [],
   "source": [
    "#total_nodal_LL['Total Load Loss'].sum()/(20*1e3)"
   ]
  },
  {
   "cell_type": "code",
   "execution_count": 10,
   "metadata": {},
   "outputs": [
    {
     "data": {
      "image/png": "[encoded data removed]",
      "text/plain": [
       "<Figure size 2000x500 with 1 Axes>"
      ]
     },
     "metadata": {},
     "output_type": "display_data"
    }
   ],
   "source": [
    "sorted_keys = sorted(all_ranges, key=lambda x: int(x.split(' - ')[0]))\n",
    "\n",
    "# Extract counts for each sorted range\n",
    "sorted_counts = [LL_ranges[key] for key in sorted_keys]\n",
    "\n",
    "# Creating the plot\n",
    "plt.figure(figsize=(20, 5))\n",
    "plt.bar(sorted_keys, sorted_counts, color=teal3, width=0.95)\n",
    "plt.xlabel('Lost Load Ranges [GWh]', fontsize=14)\n",
    "plt.ylabel('Frequency', fontsize=14)\n",
    "#plt.ylim(0,20)\n",
    "plt.grid(axis='y')\n",
    "#plt.title('Distribution of Loss Load Values by Range')\n",
    "plt.xticks(rotation=0, fontsize=12)  # Rotate the range labels for better readability\n",
    "plt.tight_layout()  # Adjust layout to make room for label rotation\n",
    "plt.savefig('../figures/frequency.png')\n",
    "# Show the plot\n",
    "plt.show()\n"
   ]
  },
  {
   "cell_type": "code",
   "execution_count": 11,
   "metadata": {},
   "outputs": [
    {
     "data": {
      "text/plain": [
       "<Figure size 1000x500 with 0 Axes>"
      ]
     },
     "metadata": {},
     "output_type": "display_data"
    },
    {
     "data": {
      "image/png": "[encoded data removed]",
      "text/plain": [
       "<Figure size 640x480 with 1 Axes>"
      ]
     },
     "metadata": {},
     "output_type": "display_data"
    }
   ],
   "source": [
    "LL_df_sorted = LL_df.sort_values(by=LL_df.columns[0], ascending=False)\n",
    "plt.figure(figsize=(10,5))\n",
    "ax = LL_df.plot(kind='bar', color=teal3, width=0.98, legend=False)\n",
    "plt.xlabel('Simulation')\n",
    "# current_xticks = ax.get_xticks()\n",
    "# new_labels = [str(i+1) for i in range(n_simulations)]\n",
    "# plt.xticks(current_xticks,new_labels,rotation=0)\n",
    "plt.xticks([])\n",
    "plt.ylabel('Loss of Load [GWh]')\n",
    "plt.grid(axis='y')\n",
    "plt.show()"
   ]
  },
  {
   "cell_type": "code",
   "execution_count": 12,
   "metadata": {},
   "outputs": [
    {
     "name": "stdout",
     "output_type": "stream",
     "text": [
      "1516.939550100652\n"
     ]
    }
   ],
   "source": [
    "total_ll_node = pd.read_csv(path + 'total_nodal_LL.csv')\n",
    "times_ll_node = pd.read_csv(path + 'times_nodal_LL.csv')\n",
    "EENS_nodal = pd.DataFrame(0, index=total_ll_node['Generator'], columns=['EENS'])\n",
    "VOLL_nodal = pd.DataFrame(0, index=total_ll_node['Generator'], columns=['VOLL'])\n",
    "LOLP_nodal = pd.DataFrame(0, index=total_ll_node['Generator'], columns=['LOLP'])\n",
    "for i, load in enumerate(total_ll_node['Generator']):\n",
    "    EENS_nodal.loc[load, 'EENS'] = total_ll_node['Total Load Loss'].iloc[i] / (n_simulations*1e3)\n",
    "    VOLL_nodal.loc[load, 'VOLL'] = (total_ll_node['Total Load Loss'].iloc[i] * price_LL) / (n_simulations*1e9)\n",
    "\n",
    "EENS_nodal_sorted = EENS_nodal.sort_values(by=EENS_nodal.columns[0], ascending=False)\n",
    "VOLL_nodal_sorted = VOLL_nodal.sort_values(by=VOLL_nodal.columns[0], ascending=False)\n",
    "\n",
    "print(EENS_nodal['EENS'].sum())\n",
    "\n",
    "for i, load in enumerate(times_ll_node['Generator']):\n",
    "    LOLP_nodal.loc[load, 'LOLP'] = times_ll_node['Times Load Loss'].iloc[i] / (8760 * n_simulations)\n",
    "\n",
    "LOLP_nodal_sorted = LOLP_nodal.sort_values(by=LOLP_nodal.columns[0], ascending=False)"
   ]
  },
  {
   "cell_type": "code",
   "execution_count": 13,
   "metadata": {},
   "outputs": [
    {
     "name": "stdout",
     "output_type": "stream",
     "text": [
      "323.29563864472965\n"
     ]
    }
   ],
   "source": [
    "avg_component_caused_ll_df = pd.read_csv(path + 'avg_component_caused_ll.csv')\n",
    "avg_component_caused_ll_df = avg_component_caused_ll_df.sort_values(by=avg_component_caused_ll_df.columns[1], ascending=False)\n",
    "\n",
    "#for i in range(1,21):\n",
    "#    print('Component: ', avg_component_caused_ll_df['Component'].iloc[i-1], 'Average Lost Load: ', avg_component_caused_ll_df['Average Lost Load'].iloc[i-1])\n",
    "\n",
    "print(avg_component_caused_ll_df['Lost Load'].sum()/n_simulations)"
   ]
  },
  {
   "cell_type": "code",
   "execution_count": 17,
   "metadata": {},
   "outputs": [
    {
     "name": "stdout",
     "output_type": "stream",
     "text": [
      "1193.592991579323\n",
      "1516.8886302240526\n"
     ]
    }
   ],
   "source": [
    "avg_multiple_components_caused_ll_df = pd.read_csv(path + 'avg_multiple_components_caused_ll.csv')\n",
    "component_counter = Counter()\n",
    "\n",
    "# Iterate through the DataFrame and update the counter\n",
    "for _, row in avg_multiple_components_caused_ll_df.iterrows():\n",
    "    components = eval(row['Components'])\n",
    "    avg_lost_load = row['Lost Load']\n",
    "    for component in components:\n",
    "        component_counter[component] += avg_lost_load\n",
    "\n",
    "# Get the ten components with the highest lost load\n",
    "top_ten_components = component_counter.most_common(100)\n",
    "\n",
    "# Convert to DataFrame for better visualization\n",
    "top_ten_components_df = pd.DataFrame(top_ten_components, columns=['Component', 'Total Lost Load'])\n",
    "\n",
    "# Save to CSV\n",
    "top_ten_components_df.to_csv('top_ten_components.csv', index=False)\n",
    "\n",
    "top_ten_components_df\n",
    "\n",
    "print(avg_multiple_components_caused_ll_df['Lost Load'].sum()/n_simulations)\n",
    "\n",
    "print((avg_multiple_components_caused_ll_df['Lost Load'].sum() + avg_component_caused_ll_df['Lost Load'].sum())/n_simulations)"
   ]
  }
 ],
 "metadata": {
  "kernelspec": {
   "display_name": "pypsa-earth-nora",
   "language": "python",
   "name": "python3"
  },
  "language_info": {
   "codemirror_mode": {
    "name": "ipython",
    "version": 3
   },
   "file_extension": ".py",
   "mimetype": "text/x-python",
   "name": "python",
   "nbconvert_exporter": "python",
   "pygments_lexer": "ipython3",
   "version": "3.10.13"
  }
 },
 "nbformat": 4,
 "nbformat_minor": 2
}
