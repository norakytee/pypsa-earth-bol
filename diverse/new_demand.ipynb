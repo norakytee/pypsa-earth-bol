{
 "cells": [
  {
   "cell_type": "code",
   "execution_count": 115,
   "metadata": {},
   "outputs": [
    {
     "data": {
      "text/plain": [
       "(                  time          0         2         4         6         8  \\\n",
       " 0  2013-01-01 00:00:00  12.049224  3.988580  7.840109  3.066470  1.865242   \n",
       " 1  2013-01-01 01:00:00  11.459934  3.793511  7.456674  2.916499  1.774019   \n",
       " 2  2013-01-01 02:00:00  10.292872  3.407185  6.697298  2.619487  1.593356   \n",
       " 3  2013-01-01 03:00:00   9.057806  2.998349  5.893673  2.305169  1.402165   \n",
       " 4  2013-01-01 04:00:00   8.866117  2.934896  5.768946  2.256385  1.372491   \n",
       " \n",
       "          10         12         14        17  ...        91        92  \\\n",
       " 0  1.506598  10.697193  20.891011  4.783668  ...  3.312962  7.463380   \n",
       " 1  1.432915  10.174025  19.869295  4.549713  ...  3.150935  7.098369   \n",
       " 2  1.286989   9.137919  17.845837  4.086377  ...  2.830049  6.375482   \n",
       " 3  1.132560   8.041438  15.704473  3.596043  ...  2.490464  5.610473   \n",
       " 4  1.108592   7.871259  15.372122  3.519941  ...  2.437759  5.491739   \n",
       " \n",
       "          93         94         95        96        97         98         99  \\\n",
       " 0  5.573948  14.502172  51.424932  7.493644  4.321856  60.729130  37.683884   \n",
       " 1  5.301343  13.792915  48.909896  7.127152  4.110487  57.759053  35.840880   \n",
       " 2  4.761462  12.388266  43.928988  6.401334  3.691881  51.876961  32.190901   \n",
       " 3  4.190123  10.901768  38.657844  5.633223  3.248884  45.652121  28.328238   \n",
       " 4  4.101448  10.671056  37.839735  5.514008  3.180128  44.685993  27.728733   \n",
       " \n",
       "          100  \n",
       " 0  17.462975  \n",
       " 1  16.608914  \n",
       " 2  14.917488  \n",
       " 3  13.127503  \n",
       " 4  12.849688  \n",
       " \n",
       " [5 rows x 84 columns],\n",
       "         time  0           2            4  6            8            10  \\\n",
       " 0 2013-01-01  0   97.138973  3103.980992  0  3820.799623  46583.162212   \n",
       " 1 2013-02-01  0   96.022434  3110.680231  0  3821.916163  44477.367913   \n",
       " 2 2013-03-01  0  130.635171  3192.187646  0  4101.051145  46950.503847   \n",
       " 3 2013-04-01  0  203.210266  3125.195250  0  3942.502475  49568.789971   \n",
       " 4 2013-05-01  0  170.830609  3091.699052  0  4036.291829  48483.513164   \n",
       " \n",
       "             12            14            17  ...  91          92  93  94  95  \\\n",
       " 0  2930.917303  13486.685754  23905.119795  ...   0  636.427757   0   0   0   \n",
       " 1  2640.616923  15579.081574  21613.979868  ...   0  292.533460   0   0   0   \n",
       " 2  3054.853235  17780.898306  24433.243179  ...   0  639.777377   0   0   0   \n",
       " 3  3044.804376  16815.091271  24059.202304  ...   0  370.691255   0   0   0   \n",
       " 4  3112.913311  17232.677203  25205.888807  ...   0  520.307605   0   0   0   \n",
       " \n",
       "     96           97            98           99           100  \n",
       " 0  0.0  6902.449816  23896.187475  3568.461600  33444.836914  \n",
       " 1  0.0  5988.003618  23006.305155  3103.980992  30521.735390  \n",
       " 2  0.0  6535.108181  25500.655347  3407.679851  29858.510675  \n",
       " 3  0.0  8307.057042  21002.115990  3177.672627  33773.099652  \n",
       " 4  0.0  8241.181187  23844.826639  2934.266923  37065.775891  \n",
       " \n",
       " [5 rows x 84 columns])"
      ]
     },
     "execution_count": 115,
     "metadata": {},
     "output_type": "execute_result"
    }
   ],
   "source": [
    "import pandas as pd\n",
    "\n",
    "# Load the demand profiles CSV\n",
    "demand_profiles_path = 'C:/Users/noraky/Documents/Masteroppgave/pypsa-earth/resources/demand_profiles.csv'\n",
    "demand_profiles = pd.read_csv(demand_profiles_path)\n",
    "\n",
    "# Load the monthly demand profiles Excel\n",
    "monthly_demand_profiles_path = 'C:/Users/noraky/Documents/Masteroppgave/pypsa-earth/monthly_demand_profiles.xlsx'\n",
    "monthly_demand_profiles = pd.read_excel(monthly_demand_profiles_path)\n",
    "\n",
    "# Display the first few rows of each to understand their structure\n",
    "(demand_profiles.head(), monthly_demand_profiles.head())\n"
   ]
  },
  {
   "cell_type": "code",
   "execution_count": 121,
   "metadata": {},
   "outputs": [
    {
     "name": "stdout",
     "output_type": "stream",
     "text": [
      "0     1\n",
      "1     1\n",
      "2     1\n",
      "3     1\n",
      "4     1\n",
      "5     1\n",
      "6     1\n",
      "7     1\n",
      "8     1\n",
      "9     1\n",
      "10    1\n",
      "11    1\n",
      "Name: time, dtype: int32\n"
     ]
    },
    {
     "ename": "KeyboardInterrupt",
     "evalue": "",
     "output_type": "error",
     "traceback": [
      "\u001b[1;31m---------------------------------------------------------------------------\u001b[0m",
      "\u001b[1;31mKeyboardInterrupt\u001b[0m                         Traceback (most recent call last)",
      "Cell \u001b[1;32mIn[121], line 12\u001b[0m\n\u001b[0;32m      9\u001b[0m \u001b[38;5;28mprint\u001b[39m(monthly_demand_profiles[\u001b[38;5;124m'\u001b[39m\u001b[38;5;124mtime\u001b[39m\u001b[38;5;124m'\u001b[39m])\n\u001b[0;32m     11\u001b[0m \u001b[38;5;66;03m# Prepare to store the scaling factors for each month and profile\u001b[39;00m\n\u001b[1;32m---> 12\u001b[0m scaling_factors \u001b[38;5;241m=\u001b[39m {}\n\u001b[0;32m     14\u001b[0m \u001b[38;5;66;03m# For each month in the monthly_demand_profiles\u001b[39;00m\n\u001b[0;32m     15\u001b[0m \u001b[38;5;28;01mfor\u001b[39;00m index, row \u001b[38;5;129;01min\u001b[39;00m monthly_demand_profiles\u001b[38;5;241m.\u001b[39miterrows():\n",
      "Cell \u001b[1;32mIn[121], line 12\u001b[0m\n\u001b[0;32m      9\u001b[0m \u001b[38;5;28mprint\u001b[39m(monthly_demand_profiles[\u001b[38;5;124m'\u001b[39m\u001b[38;5;124mtime\u001b[39m\u001b[38;5;124m'\u001b[39m])\n\u001b[0;32m     11\u001b[0m \u001b[38;5;66;03m# Prepare to store the scaling factors for each month and profile\u001b[39;00m\n\u001b[1;32m---> 12\u001b[0m scaling_factors \u001b[38;5;241m=\u001b[39m {}\n\u001b[0;32m     14\u001b[0m \u001b[38;5;66;03m# For each month in the monthly_demand_profiles\u001b[39;00m\n\u001b[0;32m     15\u001b[0m \u001b[38;5;28;01mfor\u001b[39;00m index, row \u001b[38;5;129;01min\u001b[39;00m monthly_demand_profiles\u001b[38;5;241m.\u001b[39miterrows():\n",
      "File \u001b[1;32m_pydevd_bundle/pydevd_cython.pyx:1457\u001b[0m, in \u001b[0;36m_pydevd_bundle.pydevd_cython.SafeCallWrapper.__call__\u001b[1;34m()\u001b[0m\n",
      "File \u001b[1;32m_pydevd_bundle/pydevd_cython.pyx:701\u001b[0m, in \u001b[0;36m_pydevd_bundle.pydevd_cython.PyDBFrame.trace_dispatch\u001b[1;34m()\u001b[0m\n",
      "File \u001b[1;32m_pydevd_bundle/pydevd_cython.pyx:1152\u001b[0m, in \u001b[0;36m_pydevd_bundle.pydevd_cython.PyDBFrame.trace_dispatch\u001b[1;34m()\u001b[0m\n",
      "File \u001b[1;32m_pydevd_bundle/pydevd_cython.pyx:1135\u001b[0m, in \u001b[0;36m_pydevd_bundle.pydevd_cython.PyDBFrame.trace_dispatch\u001b[1;34m()\u001b[0m\n",
      "File \u001b[1;32m_pydevd_bundle/pydevd_cython.pyx:312\u001b[0m, in \u001b[0;36m_pydevd_bundle.pydevd_cython.PyDBFrame.do_wait_suspend\u001b[1;34m()\u001b[0m\n",
      "File \u001b[1;32mc:\\Users\\noraky\\anaconda3\\envs\\pypsa-earth-nora\\lib\\site-packages\\debugpy\\_vendored\\pydevd\\pydevd.py:2070\u001b[0m, in \u001b[0;36mPyDB.do_wait_suspend\u001b[1;34m(self, thread, frame, event, arg, exception_type)\u001b[0m\n\u001b[0;32m   2067\u001b[0m             from_this_thread\u001b[38;5;241m.\u001b[39mappend(frame_custom_thread_id)\n\u001b[0;32m   2069\u001b[0m     \u001b[38;5;28;01mwith\u001b[39;00m \u001b[38;5;28mself\u001b[39m\u001b[38;5;241m.\u001b[39m_threads_suspended_single_notification\u001b[38;5;241m.\u001b[39mnotify_thread_suspended(thread_id, thread, stop_reason):\n\u001b[1;32m-> 2070\u001b[0m         keep_suspended \u001b[38;5;241m=\u001b[39m \u001b[38;5;28;43mself\u001b[39;49m\u001b[38;5;241;43m.\u001b[39;49m\u001b[43m_do_wait_suspend\u001b[49m\u001b[43m(\u001b[49m\u001b[43mthread\u001b[49m\u001b[43m,\u001b[49m\u001b[43m \u001b[49m\u001b[43mframe\u001b[49m\u001b[43m,\u001b[49m\u001b[43m \u001b[49m\u001b[43mevent\u001b[49m\u001b[43m,\u001b[49m\u001b[43m \u001b[49m\u001b[43marg\u001b[49m\u001b[43m,\u001b[49m\u001b[43m \u001b[49m\u001b[43msuspend_type\u001b[49m\u001b[43m,\u001b[49m\u001b[43m \u001b[49m\u001b[43mfrom_this_thread\u001b[49m\u001b[43m,\u001b[49m\u001b[43m \u001b[49m\u001b[43mframes_tracker\u001b[49m\u001b[43m)\u001b[49m\n\u001b[0;32m   2072\u001b[0m frames_list \u001b[38;5;241m=\u001b[39m \u001b[38;5;28;01mNone\u001b[39;00m\n\u001b[0;32m   2074\u001b[0m \u001b[38;5;28;01mif\u001b[39;00m keep_suspended:\n\u001b[0;32m   2075\u001b[0m     \u001b[38;5;66;03m# This means that we should pause again after a set next statement.\u001b[39;00m\n",
      "File \u001b[1;32mc:\\Users\\noraky\\anaconda3\\envs\\pypsa-earth-nora\\lib\\site-packages\\debugpy\\_vendored\\pydevd\\pydevd.py:2106\u001b[0m, in \u001b[0;36mPyDB._do_wait_suspend\u001b[1;34m(self, thread, frame, event, arg, suspend_type, from_this_thread, frames_tracker)\u001b[0m\n\u001b[0;32m   2103\u001b[0m         \u001b[38;5;28mself\u001b[39m\u001b[38;5;241m.\u001b[39m_call_input_hook()\n\u001b[0;32m   2105\u001b[0m     \u001b[38;5;28mself\u001b[39m\u001b[38;5;241m.\u001b[39mprocess_internal_commands()\n\u001b[1;32m-> 2106\u001b[0m     \u001b[43mtime\u001b[49m\u001b[38;5;241;43m.\u001b[39;49m\u001b[43msleep\u001b[49m\u001b[43m(\u001b[49m\u001b[38;5;241;43m0.01\u001b[39;49m\u001b[43m)\u001b[49m\n\u001b[0;32m   2108\u001b[0m \u001b[38;5;28mself\u001b[39m\u001b[38;5;241m.\u001b[39mcancel_async_evaluation(get_current_thread_id(thread), \u001b[38;5;28mstr\u001b[39m(\u001b[38;5;28mid\u001b[39m(frame)))\n\u001b[0;32m   2110\u001b[0m \u001b[38;5;66;03m# process any stepping instructions\u001b[39;00m\n",
      "\u001b[1;31mKeyboardInterrupt\u001b[0m: "
     ]
    }
   ],
   "source": [
    "from calendar import monthrange\n",
    "import numpy as np\n",
    "\n",
    "# Convert time columns to datetime for easier manipulation\n",
    "demand_profiles['time'] = pd.to_datetime(demand_profiles['time'])\n",
    "monthly_demand_profiles['time'] = pd.to_datetime(monthly_demand_profiles['time']).dt.month\n",
    "monthly_demand_profiles.columns = monthly_demand_profiles.columns.astype(str)\n",
    "\n",
    "print(monthly_demand_profiles['time'])\n",
    "\n",
    "# Prepare to store the scaling factors for each month and profile\n",
    "scaling_factors = {}\n",
    "\n",
    "# For each month in the monthly_demand_profiles\n",
    "for index, row in monthly_demand_profiles.iterrows():\n",
    "    month = row['time'].month\n",
    "    year = row['time'].year\n",
    "    # Get the range of days for the month to filter the demand profiles\n",
    "    start_date = pd.Timestamp(year, month, 1)\n",
    "    end_date = pd.Timestamp(year, month, monthrange(year, month)[1], 23, 59, 59)\n",
    "    \n",
    "    # Filter demand_profiles for the current month\n",
    "    filtered_demand = demand_profiles[(demand_profiles['time'] >= start_date) & (demand_profiles['time'] <= end_date)]\n",
    "    \n",
    "    # Sum the hourly loads for each profile in the filtered month\n",
    "    monthly_sums = filtered_demand.drop('time', axis=1).sum()\n",
    "    \n",
    "    # Calculate scaling factors for each profile based on the target monthly total\n",
    "    for profile in monthly_sums.index:\n",
    "        if profile in row and monthly_sums[profile] != 0:  # Ensure division is safe\n",
    "            scaling_factors[(year, month, profile)] = row[profile] / monthly_sums[profile]\n",
    "        else:  # If no data for the profile, set scaling factor to NaN or 0\n",
    "            scaling_factors[(year, month, profile)] = 0\n",
    "\n",
    "# Apply scaling factors to each hour in demand_profiles\n",
    "adjusted_demand = demand_profiles.copy()\n",
    "for (year, month, profile), factor in scaling_factors.items():\n",
    "    if not np.isnan(factor):\n",
    "        # Only apply scaling where factor is valid\n",
    "        adjusted_demand[profile] = adjusted_demand.apply(lambda x: x[profile] * factor if x['time'].month == month and x['time'].year == year else x[profile], axis=1)\n",
    "\n",
    "# Save the adjusted_demand to a new CSV file\n",
    "adjusted_demand_path = 'C:/Users/noraky/Documents/Masteroppgave/pypsa-earth/custom_files/adjusted_demand_profiles.csv'\n",
    "adjusted_demand.to_csv(adjusted_demand_path, index=False)\n",
    "\n",
    "adjusted_demand_path\n"
   ]
  }
 ],
 "metadata": {
  "kernelspec": {
   "display_name": "pypsa-earth-nora",
   "language": "python",
   "name": "python3"
  },
  "language_info": {
   "codemirror_mode": {
    "name": "ipython",
    "version": 3
   },
   "file_extension": ".py",
   "mimetype": "text/x-python",
   "name": "python",
   "nbconvert_exporter": "python",
   "pygments_lexer": "ipython3",
   "version": "3.10.13"
  }
 },
 "nbformat": 4,
 "nbformat_minor": 2
}
